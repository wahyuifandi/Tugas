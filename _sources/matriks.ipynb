{
 "cells": [
  {
   "cell_type": "markdown",
   "metadata": {},
   "source": [
    "## Definisi Matriks\n",
    "Matriks adalah susunan bilangan dalam bentuk persegi panjang yang tersusun dalam **baris** dan **kolom**.  \n",
    "Secara umum, matriks direpresentasikan sebagai berikut:  \n",
    "\n",
    "\\[\n",
    "A =\n",
    "\\begin{bmatrix}\n",
    "a_{11} & a_{12} & \\dots & a_{1n} \\\\\n",
    "a_{21} & a_{22} & \\dots & a_{2n} \\\\\n",
    "\\vdots & \\vdots & \\ddots & \\vdots \\\\\n",
    "a_{m1} & a_{m2} & \\dots & a_{mn}\n",
    "\\end{bmatrix}\n",
    "\\]\n",
    "\n",
    "di mana:\n",
    "- \\( m \\) = jumlah baris\n",
    "- \\( n \\) = jumlah kolom\n",
    "- \\( a_{ij} \\) = elemen pada baris ke-\\( i \\) dan kolom ke-\\( j \\).\n",
    "\n",
    "---"
   ]
  },
  {
   "cell_type": "markdown",
   "metadata": {},
   "source": [
    "## Penjumlahan Matriks\n",
    "Penjumlahan matriks hanya dapat dilakukan pada **dua matriks dengan ukuran yang sama**.  \n",
    "\n",
    "Jika \\( A \\) dan \\( B \\) adalah matriks **2x2**, maka:\n",
    "\n",
    "\\[\n",
    "C = A + B =\n",
    "\\begin{bmatrix}\n",
    "a_{11} + b_{11} & a_{12} + b_{12} \\\\\n",
    "a_{21} + b_{21} & a_{22} + b_{22}\n",
    "\\end{bmatrix}\n",
    "\\]"
   ]
  },
  {
   "cell_type": "code",
   "execution_count": 5,
   "metadata": {},
   "outputs": [
    {
     "name": "stdout",
     "output_type": "stream",
     "text": [
      "Hasil Penjumlahan Matriks:\n",
      "[[3 5]\n",
      " [7 9]]\n"
     ]
    }
   ],
   "source": [
    "import numpy as np\n",
    "\n",
    "# Definisi matriks A dan B\n",
    "A = np.array([[2, 3], [4, 5]])\n",
    "B = np.array([[1, 2], [3, 4]])\n",
    "\n",
    "# Penjumlahan Matriks\n",
    "C = A + B\n",
    "\n",
    "print(\"Hasil Penjumlahan Matriks:\")\n",
    "print(C)\n"
   ]
  },
  {
   "cell_type": "markdown",
   "metadata": {},
   "source": [
    "### Perkalian Matriks \n",
    "Perkalian dua matriks hanya bisa dilakukan jika jumlah kolom pada matriks pertama sama dengan jumlah baris pada matriks kedua.\n",
    "\n",
    "Jika:\n",
    "\n",
    "\\[\n",
    "C = A \\times B =\n",
    "\\begin{bmatrix}\n",
    "(a_{11} \\times b_{11} + a_{12} \\times b_{21}) & (a_{11} \\times b_{12} + a_{12} \\times b_{22}) \\\\\n",
    "(a_{21} \\times b_{11} + a_{22} \\times b_{21}) & (a_{21} \\times b_{12} + a_{22} \\times b_{22})\n",
    "\\end{bmatrix}\n",
    "\\]\n"
   ]
  },
  {
   "cell_type": "code",
   "execution_count": 6,
   "metadata": {},
   "outputs": [
    {
     "name": "stdout",
     "output_type": "stream",
     "text": [
      "Hasil Perkalian Matriks:\n",
      "[[19 22]\n",
      " [43 50]]\n"
     ]
    }
   ],
   "source": [
    "import numpy as np\n",
    "\n",
    "# Definisi Matriks A dan B\n",
    "A = np.array([[1, 2], [3, 4]])\n",
    "B = np.array([[5, 6], [7, 8]])\n",
    "\n",
    "# Perkalian Matriks\n",
    "C = np.dot(A, B)\n",
    "\n",
    "print(\"Hasil Perkalian Matriks:\")\n",
    "print(C)\n"
   ]
  },
  {
   "cell_type": "markdown",
   "metadata": {},
   "source": [
    "### Perkalian Skalar dengan Matrik\n",
    "Perkalian skalar dengan matriks berarti **mengalikan setiap elemen dalam matriks dengan suatu bilangan skalar**.\n",
    "\n",
    "Jika \\( k \\) adalah skalar dan \\( A \\) adalah matriks, maka:\n",
    "\n",
    "\\[\n",
    "C = k \\times A = k \\times\n",
    "\\begin{bmatrix}\n",
    "a_{11} & a_{12} \\\\\n",
    "a_{21} & a_{22}\n",
    "\\end{bmatrix}\n",
    "=\n",
    "\\begin{bmatrix}\n",
    "k \\times a_{11} & k \\times a_{12} \\\\\n",
    "k \\times a_{21} & k \\times a_{22}\n",
    "\\end{bmatrix}\n",
    "\\]\n"
   ]
  },
  {
   "cell_type": "code",
   "execution_count": 7,
   "metadata": {},
   "outputs": [
    {
     "name": "stdout",
     "output_type": "stream",
     "text": [
      "Hasil Perkalian Skalar dengan Matriks:\n",
      "[[ 6 12]\n",
      " [18 24]]\n"
     ]
    }
   ],
   "source": [
    "import numpy as np\n",
    "\n",
    "# Definisi skalar dan matriks A\n",
    "k = 3\n",
    "A = np.array([[2, 4], [6, 8]])\n",
    "\n",
    "# Perkalian Skalar dengan Matriks\n",
    "C = k * A\n",
    "\n",
    "print(\"Hasil Perkalian Skalar dengan Matriks:\")\n",
    "print(C)\n"
   ]
  }
 ],
 "metadata": {
  "kernelspec": {
   "display_name": "Python 3 (ipykernel)",
   "language": "python",
   "name": "python3"
  }
 },
 "nbformat": 4,
 "nbformat_minor": 2
}
